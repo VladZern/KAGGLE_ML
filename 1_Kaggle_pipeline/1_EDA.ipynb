{
 "cells": [
  {
   "cell_type": "code",
   "execution_count": null,
   "metadata": {},
   "outputs": [],
   "source": [
    "import pandas as pd\n",
    "import numpy as np\n",
    "import matplotlib as mpl\n",
    "import matplotlib.pyplot as plt\n",
    "import seaborn as sns; sns.set()"
   ]
  },
  {
   "cell_type": "markdown",
   "metadata": {},
   "source": [
    "# CSV файл"
   ]
  },
  {
   "cell_type": "code",
   "execution_count": null,
   "metadata": {},
   "outputs": [],
   "source": [
    "data = pd.read_csv('name.csv', index_col='') #колонка которая будет индексом\n",
    "data = pd.read_csv('name.csv', header=None) #без заголовка\n",
    "data.head()"
   ]
  },
  {
   "cell_type": "code",
   "execution_count": null,
   "metadata": {},
   "outputs": [],
   "source": [
    "Columns = ['']\n",
    "data.keys() \n",
    "data = pd.read_csv('name.data', names=Columns)\n",
    "data=pd.read_csv('name.csv.gz',compression='gzip') #считывание из архива"
   ]
  },
  {
   "cell_type": "code",
   "execution_count": null,
   "metadata": {},
   "outputs": [],
   "source": [
    "data.info()\n",
    "data.describe()"
   ]
  },
  {
   "cell_type": "code",
   "execution_count": null,
   "metadata": {},
   "outputs": [],
   "source": [
    "numeric_cols = ['']\n",
    "categorical_cols = list(set(data.columns.values.tolist()) - set(numeric_cols))"
   ]
  },
  {
   "cell_type": "code",
   "execution_count": null,
   "metadata": {},
   "outputs": [],
   "source": [
    "data.to_csv('data.txt', sep=' ', index=None, header=None) #запись в файл массив данных"
   ]
  },
  {
   "cell_type": "markdown",
   "metadata": {},
   "source": [
    "# Графики"
   ]
  },
  {
   "cell_type": "markdown",
   "metadata": {},
   "source": [
    "0) Гистограммы числовых признаков"
   ]
  },
  {
   "cell_type": "code",
   "execution_count": null,
   "metadata": {},
   "outputs": [],
   "source": [
    "fig, ax = plt.subplots(figsize=(7,5))\n",
    "data[numeric_cols].hist(color='red', edgecolor = 'black', linewidth = 3, bins=100, ax=ax) #гистограммы числовых признаков\n",
    "ax.set_xlabel(u'Длина сессии (сек.)')\n",
    "ax.set_ylabel(u'Частота')\n",
    "ax.set_title(u'Распределение длины сессии');"
   ]
  },
  {
   "cell_type": "markdown",
   "metadata": {},
   "source": [
    "1) Зависимость между двумя признаками"
   ]
  },
  {
   "cell_type": "code",
   "execution_count": null,
   "metadata": {},
   "outputs": [],
   "source": [
    "plt.scatter(X[X.columns[0]], X[X.columns[1]], c=y, cmap='RdBu') # график "
   ]
  },
  {
   "cell_type": "markdown",
   "metadata": {},
   "source": [
    "2) Heatmap"
   ]
  },
  {
   "cell_type": "code",
   "execution_count": null,
   "metadata": {},
   "outputs": [],
   "source": [
    "fig, ax = plt.subplots(figsize=(15,15)) \n",
    "seaborn.heatmap(data.corr(), square=True, annot=True, cbar=False, ax=ax)"
   ]
  },
  {
   "cell_type": "markdown",
   "metadata": {},
   "source": [
    "3) Зависимость target от признаков"
   ]
  },
  {
   "cell_type": "code",
   "execution_count": null,
   "metadata": {},
   "outputs": [],
   "source": [
    "fig, axes = plt.subplots(nrows=3, ncols=5, figsize=(15, 10))\n",
    "for idx, feature in enumerate(data.columns[:-1]):\n",
    "    data.plot(feature, \"target\", subplots=True, kind=\"scatter\", ax=axes[idx / 5, idx % 5])"
   ]
  },
  {
   "cell_type": "markdown",
   "metadata": {},
   "source": [
    "4) PAIRPLOT"
   ]
  },
  {
   "cell_type": "code",
   "execution_count": null,
   "metadata": {},
   "outputs": [],
   "source": [
    "sns_plot = sns.pairplot(data, hue='target', vars=[\"col1\", \"col2\"])\n",
    "# hue - столбец data отвечающий за цвет точек\n",
    "# vars - зависимость каких признаков строить"
   ]
  },
  {
   "cell_type": "markdown",
   "metadata": {},
   "source": [
    "5) BOXPLOT"
   ]
  },
  {
   "cell_type": "code",
   "execution_count": null,
   "metadata": {},
   "outputs": [],
   "source": [
    "sns_boxpl = sns.boxplot(y=\"\", x=\"\",data=data)\n",
    "# Коробка показывает интерквартильный размах распределения, то есть соответственно 25% (Q1) и 75% (Q3) перцентили. \n",
    "# Черта внутри коробки обозначает медиану распределения.\n",
    "# Усы отображают весь разброс точек кроме выбросов, то есть минимальные и максимальные значения, \n",
    "# которые попадают в промежуток (Q1 - 1.5*IQR, Q3 + 1.5*IQR), где IQR = Q3 - Q1 — интерквартильный размах.\n",
    "# Точками на графике обозначаются выбросы (outliers) — те значения, \n",
    "# которые не вписываются в промежуток значений, заданный усами графика."
   ]
  },
  {
   "cell_type": "markdown",
   "metadata": {},
   "source": [
    "6) Countplot (для категориальных признаков) - число объектов с данным значением признака"
   ]
  },
  {
   "cell_type": "code",
   "execution_count": null,
   "metadata": {},
   "outputs": [],
   "source": [
    "fig, axes = plt.subplots(11, 10, figsize=(40, 40), sharey=True)\n",
    "for i in range(len(cat_features)):\n",
    "    seaborn.countplot(x=cat_features[i], data=data, hue='target', ax=axes[i // 10, i % 10])"
   ]
  },
  {
   "cell_type": "markdown",
   "metadata": {},
   "source": [
    "7) Distplot (распределение признака по значениям)"
   ]
  },
  {
   "cell_type": "code",
   "execution_count": null,
   "metadata": {},
   "outputs": [],
   "source": [
    "sns.distplot(data['col1'],kde=False,bins=50)"
   ]
  },
  {
   "cell_type": "markdown",
   "metadata": {},
   "source": [
    "8) Groupby + plot"
   ]
  },
  {
   "cell_type": "code",
   "execution_count": null,
   "metadata": {},
   "outputs": [],
   "source": [
    "data.groupby('Col_group').sum().plot(kind='bar', rot=45) #x - col_group, y - остальные признаки\n",
    "#rot - угол наклона подписей"
   ]
  },
  {
   "cell_type": "markdown",
   "metadata": {},
   "source": [
    "# Полезные функции"
   ]
  },
  {
   "cell_type": "code",
   "execution_count": null,
   "metadata": {},
   "outputs": [],
   "source": [
    ".astype(float) #перевод типа\n",
    "data[time] = pd.to_datetime(data[time]) #перевод к типу datetime\n",
    "data.index = pd.to_datetime(data.index)\n",
    "data['year'] = data.index.year #выделение года\n",
    "data['month'] = data.index.month #выделение месяца\n",
    "data['day'] = data.index.day #выделение дня\n",
    "data['weekday'] = data.index.dayofweek\n",
    "\n",
    "#если date не индекс\n",
    "train['year'] = [d.year for d in train['Date']]#выделение года\n",
    "train['month'] = [d.month for d in train['Date']] #выделение месяца\n",
    "train['day'] = [d.day for d in train['Date']] #выделение дня"
   ]
  },
  {
   "cell_type": "code",
   "execution_count": null,
   "metadata": {},
   "outputs": [],
   "source": [
    "data[(data['1']==data['2'])&(data['3']==data['4'])] #максирование с двумя условиями"
   ]
  },
  {
   "cell_type": "code",
   "execution_count": null,
   "metadata": {},
   "outputs": [],
   "source": [
    "data.sort(key=lambda x:x[1]) #сорировка по второнту аргументу массива\n",
    "data = data.sort_values(by=['col1'], ascending=False) #сортировка объектов по значению признака col1"
   ]
  },
  {
   "cell_type": "code",
   "execution_count": null,
   "metadata": {},
   "outputs": [],
   "source": [
    "mylist = list(mydict.items()) #cортировка словаря по значению\n",
    "mylist.sort(key=lambda i: i[1], reverse=True)"
   ]
  },
  {
   "cell_type": "code",
   "execution_count": null,
   "metadata": {},
   "outputs": [],
   "source": [
    "data[''] = data[''].map(lambda x: x.lower()) #применение функции к каждому объекту столбца \n",
    "data['Sex']=data['Sex'].map({'male':1,'female':0}) #применение функции к каждому объекту\n",
    "data['Sex'] = data['Sex'].map(lambda x: 1 if x == 'M' else (-1 if x == 'F' else 0))\n",
    "data_hour = data['col1'].apply(lambda ob: ob.hour).values"
   ]
  },
  {
   "cell_type": "code",
   "execution_count": null,
   "metadata": {},
   "outputs": [],
   "source": [
    "data['weight_cat'] = data['Weight'].apply(функция(аргумент объект))"
   ]
  },
  {
   "cell_type": "code",
   "execution_count": null,
   "metadata": {},
   "outputs": [],
   "source": [
    "data[''].value_counts() #показывает колличество объектов с данным значением признака"
   ]
  },
  {
   "cell_type": "code",
   "execution_count": null,
   "metadata": {},
   "outputs": [],
   "source": [
    "data = pd.concat([data,data2],axis=1) #присоединение столбца к dataframe"
   ]
  },
  {
   "cell_type": "code",
   "execution_count": null,
   "metadata": {},
   "outputs": [],
   "source": [
    "df = data[[x for x in data.columns if 'word1' or 'word2' in x] + ['col_dop']] #сложное максирование"
   ]
  },
  {
   "cell_type": "code",
   "execution_count": null,
   "metadata": {},
   "outputs": [],
   "source": [
    "start_time = datetime.datetime.now() #измерение времени работы кода\n",
    "#код#\n",
    "print 'Time elapsed:', datetime.datetime.now() - start_time"
   ]
  },
  {
   "cell_type": "code",
   "execution_count": null,
   "metadata": {},
   "outputs": [],
   "source": [
    "#разбиение значений признака на промежутки и формирование новых признаков\n",
    "from scipy.sparse import hstack\n",
    "def add_time_features(df, X_sparse):\n",
    "    hour = df['time1'].apply(lambda ts: ts.hour)\n",
    "    morning = ((hour >= 7) & (hour <= 11)).astype('int')\n",
    "    day = ((hour >= 12) & (hour <= 18)).astype('int')\n",
    "    evening = ((hour >= 19) & (hour <= 23)).astype('int')\n",
    "    night = ((hour >= 0) & (hour <= 6)).astype('int')\n",
    "    X = hstack([X_sparse, morning.values.reshape(-1, 1), \n",
    "                day.values.reshape(-1, 1), evening.values.reshape(-1, 1), \n",
    "                night.values.reshape(-1, 1)])\n",
    "    return X"
   ]
  },
  {
   "cell_type": "code",
   "execution_count": null,
   "metadata": {},
   "outputs": [],
   "source": [
    "#запись результатов в файл\n",
    "def write_to_submission_file(predicted_labels, out_file, target='target', index_label=\"session_id\"):\n",
    "    predicted_df = pd.DataFrame(predicted_labels, index = np.arange(1, predicted_labels.shape[0] + 1), columns=[target])\n",
    "    predicted_df.to_csv(out_file, index_label=index_label)"
   ]
  },
  {
   "cell_type": "code",
   "execution_count": null,
   "metadata": {},
   "outputs": [],
   "source": [
    "#перевод текст на другой язык\n",
    "data['col_2'] = data['col'].apply(lambda x: x.translate(english))"
   ]
  }
 ],
 "metadata": {
  "kernelspec": {
   "display_name": "Python 2",
   "language": "python",
   "name": "python2"
  },
  "language_info": {
   "codemirror_mode": {
    "name": "ipython",
    "version": 2
   },
   "file_extension": ".py",
   "mimetype": "text/x-python",
   "name": "python",
   "nbconvert_exporter": "python",
   "pygments_lexer": "ipython2",
   "version": "2.7.16"
  }
 },
 "nbformat": 4,
 "nbformat_minor": 2
}
