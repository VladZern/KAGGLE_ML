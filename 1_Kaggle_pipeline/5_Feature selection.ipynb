{
 "cells": [
  {
   "cell_type": "markdown",
   "metadata": {},
   "source": [
    "# Метрики для классификации"
   ]
  },
  {
   "cell_type": "code",
   "execution_count": null,
   "metadata": {},
   "outputs": [],
   "source": [
    "from sklearn.metrics import accuracy_score #точность\n",
    "from sklearn.metrics import roc_auc_score #площадь под кривой\n",
    "from sklearn.metrics import precision_score\n",
    "from sklearn.metrics import recall_score\n",
    "from sklearn.metrics import f1_score # 1 - идеальный алгоритм\n",
    "from sklearn.metrics import log_loss # от 0 до бесконечности"
   ]
  },
  {
   "cell_type": "code",
   "execution_count": null,
   "metadata": {},
   "outputs": [],
   "source": [
    "score = accuracy_score(y,ypred)\n",
    "score = roc_auc_score(y,ypred)\n",
    "score = precision_score(y,ypred)\n",
    "score = recall_score(y,ypred)\n",
    "score = f1_score(y,ypred)\n",
    "log_loss_score = log_loss(y_pred=model.predict_proba(X),y_true=y) #может работать с вероятностями"
   ]
  },
  {
   "cell_type": "markdown",
   "metadata": {},
   "source": [
    "# Сlassification report "
   ]
  },
  {
   "cell_type": "code",
   "execution_count": null,
   "metadata": {},
   "outputs": [],
   "source": [
    "from sklearn import metrics\n",
    "metrics.classification_report(ypred, ytest)"
   ]
  },
  {
   "cell_type": "markdown",
   "metadata": {},
   "source": [
    "# Кривая ROC-CURVE"
   ]
  },
  {
   "cell_type": "code",
   "execution_count": null,
   "metadata": {},
   "outputs": [],
   "source": [
    "from sklearn.metrics import roc_curve\n",
    "fpr, tpr, thr = roc_curve(actual, predicted) #FALSE POSITIVE RATE, TRUE POSITIVE RATE, Порог отнесения к одному или другому классу"
   ]
  },
  {
   "cell_type": "markdown",
   "metadata": {},
   "source": [
    "# Кривая точность-полнота (метрика для классификации)"
   ]
  },
  {
   "cell_type": "code",
   "execution_count": null,
   "metadata": {},
   "outputs": [],
   "source": [
    "from sklearn.metrics import precision_recall_curve\n",
    "precision_lg, recall_lg, thresholds_lg = precision_recall_curve(y_true=scores_data['true'], probas_pred=scores_data['score_logreg'])\n",
    "plt.plot(recall_lg, precision_lg, '--')\n",
    "plt.xlabel('recall')\n",
    "plt.ylabel('precision')\n",
    "plt.title('PR-curve for LogReg')"
   ]
  },
  {
   "cell_type": "markdown",
   "metadata": {},
   "source": [
    "# Метрики для регрессии"
   ]
  },
  {
   "cell_type": "code",
   "execution_count": null,
   "metadata": {},
   "outputs": [],
   "source": [
    "from sklearn.metrics import mean_squared_error\n",
    "score = mean_squared_error(y,ypred)"
   ]
  },
  {
   "cell_type": "markdown",
   "metadata": {},
   "source": [
    "# Сross Validation "
   ]
  },
  {
   "cell_type": "code",
   "execution_count": null,
   "metadata": {},
   "outputs": [],
   "source": [
    "from sklearn.model_selection import KFold\n",
    "from sklearn.model_selection import StratifiedKFold\n",
    "from sklearn.model_selection import ShuffleSplit\n",
    "from sklearn.model_selection import StratifiedShuffleSplit\n",
    "from sklearn.model_selection import LeaveOneOut\n",
    "\n",
    "from sklearn.model_selection import cross_val_score\n",
    "\n",
    "\n",
    "rang = KFold(n_splits=5, shuffle=True, random_state=42)\n",
    "rang = StratifiedKFold(n_splits = 2, shuffle = True, random_state = 0)\n",
    "rang = ShuffleSplit(n_splits = 10, test_size = 0.2)\n",
    "rang = StratifiedShuffleSplit(n_splits = 4, test_size = 0.2)\n",
    "rang = LeaveOneOut()\n",
    "\n",
    "score = cross_val_score(estimator=model, X=X, y=y, cv=rang,scoring='neg_mean_squared_error')\n",
    "score.mean() #средняя оценка\n",
    "score.std()  #разброс по оценкам"
   ]
  },
  {
   "cell_type": "markdown",
   "metadata": {},
   "source": [
    "# Train_test_split"
   ]
  },
  {
   "cell_type": "code",
   "execution_count": null,
   "metadata": {},
   "outputs": [],
   "source": [
    "from sklearn.model_selection import  train_test_split\n",
    "X_train, X_test, y_train, y_test = train_test_split(X, y, test_size=0.8, stratify=y, random_state=241)"
   ]
  },
  {
   "cell_type": "markdown",
   "metadata": {},
   "source": [
    "# TimeSeriesSplit"
   ]
  },
  {
   "cell_type": "code",
   "execution_count": null,
   "metadata": {},
   "outputs": [],
   "source": [
    "from sklearn.model_selection import TimeSeriesSplit #для данных с временной привязкой\n",
    "cv = TimeSeriesSplit(n_splits=5, max_train_size=None)"
   ]
  },
  {
   "cell_type": "markdown",
   "metadata": {},
   "source": [
    "# GridSearchCV"
   ]
  },
  {
   "cell_type": "code",
   "execution_count": null,
   "metadata": {},
   "outputs": [],
   "source": [
    "from sklearn.model_selection import GridSearchCV\n",
    "param_grid = {'C': [0.01, 0.05, 0.1, 0.5, 1, 5, 10]}\n",
    "grid_cv = GridSearchCV(model, param_grid, scoring=, n_jobs=, cv=)\n",
    "#scoring - функционал качества, максимум которого ищется кросс валидацией, по умолчанию используется функция score() класса esimator\n",
    "#n_jobs - позволяет ускорить кросс-валидацию, выполняя её параллельно, число определяет количество одновременно запущенных задач\n",
    "#cv - количество фолдов, на которые разбивается выборка при кросс-валидации\n",
    "grid_cv.fit(X_train,y_train)\n",
    "grid_cv.predict(X)\n",
    "grid_cv.predict_proba(X)\n",
    "print grid_cv.best_estimator_ # лучший алгоритм\n",
    "print grid_cv.best_params_ # лучший набор параметров"
   ]
  },
  {
   "cell_type": "code",
   "execution_count": null,
   "metadata": {},
   "outputs": [],
   "source": []
  },
  {
   "cell_type": "code",
   "execution_count": null,
   "metadata": {},
   "outputs": [],
   "source": []
  }
 ],
 "metadata": {
  "kernelspec": {
   "display_name": "Python 2",
   "language": "python",
   "name": "python2"
  },
  "language_info": {
   "codemirror_mode": {
    "name": "ipython",
    "version": 2
   },
   "file_extension": ".py",
   "mimetype": "text/x-python",
   "name": "python",
   "nbconvert_exporter": "python",
   "pygments_lexer": "ipython2",
   "version": "2.7.16"
  }
 },
 "nbformat": 4,
 "nbformat_minor": 2
}
