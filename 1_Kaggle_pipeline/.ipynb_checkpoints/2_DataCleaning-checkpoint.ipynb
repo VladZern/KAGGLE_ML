{
 "cells": [
  {
   "cell_type": "markdown",
   "metadata": {},
   "source": [
    "# Обработка нулевых значений"
   ]
  },
  {
   "cell_type": "code",
   "execution_count": null,
   "metadata": {},
   "outputs": [],
   "source": [
    "# Fill empty and NaNs values with NaN\n",
    "data = data.fillna(np.nan)\n",
    "# Check for Null values\n",
    "data.isnull().sum()"
   ]
  },
  {
   "cell_type": "code",
   "execution_count": null,
   "metadata": {},
   "outputs": [],
   "source": [
    "data = data.drop([''], axis=1) # удаление столбов\n",
    "data.dropna(inplace=True) # удаление нулей\n",
    "data[data.isnull()]=0 #Замена пропусков на 0\n",
    "np.any(data[''].isnull()) # проверка есть ли нули\n",
    "data[''].fillna('nan', inplace=True) # Замените пропуски в столбцах на специальную строку 'nan'\n",
    "data['Сol1'][data['Col1'].isnull()] = data['Col1'].mean() #Замена пропусков на среднее значение по признаку"
   ]
  },
  {
   "cell_type": "code",
   "execution_count": null,
   "metadata": {},
   "outputs": [],
   "source": [
    "data.count() #число значений без пропусков\n",
    "data.isnull().sum() #число значений с пропусками\n",
    "data.columns[data.isnull().sum()!=0] # признаки, имеющие пропуска в данных"
   ]
  },
  {
   "cell_type": "code",
   "execution_count": null,
   "metadata": {},
   "outputs": [],
   "source": [
    "plt.figure(figsize=(25,10)) \n",
    "ax = seaborn.heatmap(X.isnull(),yticklabels=False,cbar=False,cmap='viridis') #график с пропущенными значениями"
   ]
  }
 ],
 "metadata": {
  "kernelspec": {
   "display_name": "Python 2",
   "language": "python",
   "name": "python2"
  },
  "language_info": {
   "codemirror_mode": {
    "name": "ipython",
    "version": 2
   },
   "file_extension": ".py",
   "mimetype": "text/x-python",
   "name": "python",
   "nbconvert_exporter": "python",
   "pygments_lexer": "ipython2",
   "version": "2.7.16"
  }
 },
 "nbformat": 4,
 "nbformat_minor": 2
}
