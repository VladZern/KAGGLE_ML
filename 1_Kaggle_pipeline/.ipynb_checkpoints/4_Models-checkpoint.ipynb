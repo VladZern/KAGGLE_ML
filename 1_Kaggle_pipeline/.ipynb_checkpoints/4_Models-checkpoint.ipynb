{
 "cells": [
  {
   "cell_type": "markdown",
   "metadata": {},
   "source": [
    "# Линейная регрессия с L2 регуляризацией"
   ]
  },
  {
   "cell_type": "code",
   "execution_count": null,
   "metadata": {},
   "outputs": [],
   "source": [
    "from sklearn.linear_model import Ridge\n",
    "model = Ridge(alpha=1, random_state=241) # alpha - коэффициент регуляризации\n",
    "model.fit(X=Xtrain, y=ytrain)\n",
    "ypred = model.predict(X=Xtest)\n",
    "print model.coef_\n",
    "print model.intercept_"
   ]
  },
  {
   "cell_type": "markdown",
   "metadata": {},
   "source": [
    "# Линейная регрессия с L1 регуляризацией"
   ]
  },
  {
   "cell_type": "code",
   "execution_count": null,
   "metadata": {},
   "outputs": [],
   "source": [
    "from sklearn.linear_model import Lasso\n",
    "model = Lasso(alpha=1) # alpha - коэффициент регуляризации\n",
    "model.fit(X=Xtrain, y=ytrain)\n",
    "ypred = model.predict(X=Xtest)"
   ]
  },
  {
   "cell_type": "markdown",
   "metadata": {},
   "source": [
    "# Линейная регрессия"
   ]
  },
  {
   "cell_type": "code",
   "execution_count": null,
   "metadata": {},
   "outputs": [],
   "source": [
    "from sklearn.linear_model import LinearRegression\n",
    "model= LinearRegression()\n",
    "model.fit(X=Xtrain, y=ytrain)\n",
    "ypred = lin_reg.predict(X=Xtest)\n",
    "model.coef_ #коэффициенты признаков"
   ]
  },
  {
   "cell_type": "markdown",
   "metadata": {},
   "source": [
    "# Логистическая регрессия"
   ]
  },
  {
   "cell_type": "code",
   "execution_count": null,
   "metadata": {},
   "outputs": [],
   "source": [
    "from sklearn.linear_model import LogisticRegression\n",
    "C = 0.1 #параметр регуляризации, т.е насколько сильная регуляризация\n",
    "model = LogisticRegression(C=c, penalty='l1', class_weight='balanced') #penalty - вид регуляризации, class_weight - балансировка классов\n",
    "model.fit(X,y)\n",
    "ypred = model.predict(X)\n",
    "y_prob = model.predict_proba(X=X)"
   ]
  },
  {
   "cell_type": "markdown",
   "metadata": {},
   "source": [
    "# Линейный Классификатор"
   ]
  },
  {
   "cell_type": "code",
   "execution_count": null,
   "metadata": {},
   "outputs": [],
   "source": [
    "from sklearn.linear_model import SGDClassifier\n",
    "sgd_model = SGDClassifier(loss='log',random_state=17, n_jobs=-1)\n",
    "sgd_model.fit(X_train, y_train)\n",
    "y_pred_proba = sgd_model.predict_proba(X_test)"
   ]
  },
  {
   "cell_type": "markdown",
   "metadata": {},
   "source": [
    "# Решающие деревья"
   ]
  },
  {
   "cell_type": "code",
   "execution_count": null,
   "metadata": {},
   "outputs": [],
   "source": [
    "from sklearn.tree import DecisionTreeClassifier\n",
    "clf = DecisionTreeClassifier(random_state=241)\n",
    "clf.fit(X, y)\n",
    "importances = clf.feature_importances_ #веса признаков "
   ]
  },
  {
   "cell_type": "markdown",
   "metadata": {},
   "source": [
    "# Классификация методом К соседей "
   ]
  },
  {
   "cell_type": "code",
   "execution_count": null,
   "metadata": {},
   "outputs": [],
   "source": [
    "from sklearn.neighbors import KNeighborsRegressor #метрический алгоритм, нужно масштабирование\n",
    "model = KNeighborsRegressor(n_neighbors=5, weights='distance', metric='minkowski',p=p) #p- параметр метрики миньковского (1-10)"
   ]
  },
  {
   "cell_type": "code",
   "execution_count": null,
   "metadata": {},
   "outputs": [],
   "source": [
    "from sklearn.neighbors import KNeighborsClassifier\n",
    "model = KNeighborsClassifier(n_neighbors=1)\n",
    "model.fit(X,y)"
   ]
  },
  {
   "cell_type": "markdown",
   "metadata": {},
   "source": [
    "# Наивный байесовский классификатор"
   ]
  },
  {
   "cell_type": "code",
   "execution_count": null,
   "metadata": {},
   "outputs": [],
   "source": [
    "from sklearn import naive_bayes\n",
    "BernoulliNB_score = model_selection.cross_val_score(naive_bayes.BernoulliNB(), data, target).mean() # c распределением Бернулли\n",
    "MultinomialNB_score = model_selection.cross_val_score(naive_bayes.MultinomialNB(), data, target).mean() #с мультиномиальным распределением\n",
    "GaussianNB_score = model_selection.cross_val_score(naive_bayes.GaussianNB(), data, target).mean() # c нормальным распределением"
   ]
  },
  {
   "cell_type": "markdown",
   "metadata": {},
   "source": [
    "# Метод опорных векторов (Support Vector Machine, SVM)"
   ]
  },
  {
   "cell_type": "code",
   "execution_count": null,
   "metadata": {},
   "outputs": [],
   "source": [
    "from sklearn.svm import SVC\n",
    "model = SVC(kernel='linear', C = 100000,random_state=241)\n",
    "model.fit(X,y)\n",
    "index_support = model.support_ #индексы признаков, которые являются опорными векторами\n",
    "coef = model.coef_ #коэффициенты модели для каждого признака"
   ]
  },
  {
   "cell_type": "markdown",
   "metadata": {},
   "source": [
    "# Метод главных компонент (principal component analysis, PCA)"
   ]
  },
  {
   "cell_type": "code",
   "execution_count": null,
   "metadata": {},
   "outputs": [],
   "source": [
    "from sklearn.decomposition import PCA\n",
    "model = PCA(n_components=10)\n",
    "model.fit(data)\n",
    "model.explained_variance_ratio_ #массив, который показывает сколько дисперсии объясняет каждая компонента\n",
    "X = model.transform(data) #применение модели для трансформации данных"
   ]
  },
  {
   "cell_type": "markdown",
   "metadata": {},
   "source": [
    "# RandomizedPCA"
   ]
  },
  {
   "cell_type": "code",
   "execution_count": null,
   "metadata": {},
   "outputs": [],
   "source": [
    "from sklearn.decomposition import PCA as RandomizedPCA\n",
    "model = RandomizedPCA(n_components=10, svd_solver='randomized', whiten=True)\n",
    "X = model.fit_transform(data)"
   ]
  },
  {
   "cell_type": "markdown",
   "metadata": {},
   "source": [
    "# TSNE - метод понижения размерности, по умолчанию до 2х компонент"
   ]
  },
  {
   "cell_type": "code",
   "execution_count": null,
   "metadata": {},
   "outputs": [],
   "source": [
    "#нужно масштабировать выборку\n",
    "from sklearn.manifold import TSNE\n",
    "model = TSNE(random_state=321)\n",
    "X = model.fit_transform(data)"
   ]
  },
  {
   "cell_type": "markdown",
   "metadata": {},
   "source": [
    "# MDS -метод понижения размерности"
   ]
  },
  {
   "cell_type": "code",
   "execution_count": null,
   "metadata": {},
   "outputs": [],
   "source": [
    "from sklearn.manifold import MDS\n",
    "model = MDS(random_state=321)\n",
    "X = model.fit_transform(data)"
   ]
  },
  {
   "cell_type": "markdown",
   "metadata": {},
   "source": [
    "# One class SVM - ПОИСК АНОМАЛИЙ"
   ]
  },
  {
   "cell_type": "code",
   "execution_count": null,
   "metadata": {},
   "outputs": [],
   "source": [
    "from sklearn import svm\n",
    "svm_ = svm.OneClassSVM(gamma=10, nu=0.01)\n",
    "# gamma - влияет на то, как хорошо граница будет приближать данные\n",
    "# nu -  сколько точек нужно относить к выбросам\n",
    "svm_.fit(sdata[person_features])\n",
    "predict = svm_.predict(data)"
   ]
  },
  {
   "cell_type": "markdown",
   "metadata": {},
   "source": [
    "# Кластеризация KMeans"
   ]
  },
  {
   "cell_type": "code",
   "execution_count": null,
   "metadata": {},
   "outputs": [],
   "source": [
    "from sklearn.cluster import KMeans\n",
    "model = KMeans(n_clusters=3, random_state=1)\n",
    "pred = model.fit_predict(X.toarray()) # X - матрица текстов после TF-IDF преобразования"
   ]
  },
  {
   "cell_type": "markdown",
   "metadata": {},
   "source": [
    "# Кластеризация MeanShift"
   ]
  },
  {
   "cell_type": "code",
   "execution_count": null,
   "metadata": {},
   "outputs": [],
   "source": [
    "from sklearn.cluster import MeanShift\n",
    "model = MeanShift(bandwidth=0.1)\n",
    "pred = model.fit_predict(data)"
   ]
  },
  {
   "cell_type": "markdown",
   "metadata": {},
   "source": [
    "# Аггломеративная кластеризация (neighbour joining) (для текстов)"
   ]
  },
  {
   "cell_type": "code",
   "execution_count": null,
   "metadata": {},
   "outputs": [],
   "source": [
    "from sklearn.cluster.hierarchical import AgglomerativeClustering\n",
    "# X - матрица текстов после TF-IDF преобразования\n",
    "model = AgglomerativeClustering(n_clusters=3, affinity='cosine', linkage='complete')\n",
    "pred = model.fit_predict(X.toarray())"
   ]
  },
  {
   "cell_type": "markdown",
   "metadata": {},
   "source": [
    "# Тематическое моделирование. LDA-модель"
   ]
  },
  {
   "cell_type": "code",
   "execution_count": null,
   "metadata": {},
   "outputs": [],
   "source": [
    "import json\n",
    "from gensim import corpora, models\n",
    "with open(\"name.json\") as f: #загрузка файла\n",
    "    data = json.load(f)\n",
    "    \n",
    "texts = [obj[\"columns_text\"] for obj in data] # загрузка текстов\n",
    "dictionary = corpora.Dictionary(texts)   # составляем словарь\n",
    "corpus = [dictionary.doc2bow(text) for text in texts]  # составляем корпус документов\n",
    "np.random.seed(76543)\n",
    "\n",
    "# здесь код для построения модели:\n",
    "ldamodel = models.ldamodel.LdaModel(corpus,id2word=dictionary,num_topics=40,passes=5)\n",
    "top_words_in_topics = ldamodel.show_topics(num_topics=40,num_words=10,formatted=False) #топ тем\n",
    "\n",
    "#фильтрация словаря\n",
    "import copy\n",
    "dictionary2 = copy.deepcopy(dictionary)\n",
    "\n",
    "pop_ingr = list() #cписок слов, которые встретились больше 4000 раз\n",
    "# переменная dfs — это словарь, ключами которого являются id токена, \n",
    "# а элементами — число раз, сколько слово встретилось во всей коллекции\n",
    "for word in dictionary2.dfs:\n",
    "    if dictionary2.dfs[word]>4000:\n",
    "        pop_ingr.append(word)\n",
    "dictionary_after = dictionary2\n",
    "dictionary_after.filter_tokens(bad_ids=pop_ingr) #фильтрация словаря\n",
    "dict_size_after = len(dictionary_after) #размер словаря после фильтрации"
   ]
  }
 ],
 "metadata": {
  "kernelspec": {
   "display_name": "Python 2",
   "language": "python",
   "name": "python2"
  },
  "language_info": {
   "codemirror_mode": {
    "name": "ipython",
    "version": 2
   },
   "file_extension": ".py",
   "mimetype": "text/x-python",
   "name": "python",
   "nbconvert_exporter": "python",
   "pygments_lexer": "ipython2",
   "version": "2.7.16"
  }
 },
 "nbformat": 4,
 "nbformat_minor": 2
}
